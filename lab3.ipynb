{
 "cells": [
  {
   "cell_type": "code",
   "execution_count": null,
   "metadata": {},
   "outputs": [],
   "source": [
    "import requests\n",
    "from bs4 import BeautifulSoup\n",
    "import re\n",
    "\n",
    "r = requests.get('https://news.daum.net/ranking/popular/')\n",
    "r.encoding = 'utf-8'\n",
    "bs = BeautifulSoup(r.text, 'html.parser')\n",
    "\n",
    "titles = bs.select('ul.list_news2 > li > div.cont_thumb > strong > a')\n",
    "comnames = bs.select('ul.list_news2 > li > div.cont_thumb > strong > a')\n",
    "\n",
    "newstitle = [] \n",
    "newscomname = []\n",
    "\n",
    "for dom in titles:\n",
    "    newstitle.append(dom.text)\n",
    "for dom in comnames:\n",
    "    newscomname.append(dom.text)\n",
    "\n",
    "with open('output/news.csv', \"wt\", encoding=\"utf-8\") as f:\n",
    "    f.write('newstitle,newscomname\\n')  \n",
    "    for i in range(len(newscomname)):\n",
    "        f.write(newstitle[i]+\",\"+newscomname[i]+'\\n')  "
   ]
  },
  {
   "cell_type": "code",
   "execution_count": null,
   "metadata": {},
   "outputs": [],
   "source": []
  }
 ],
 "metadata": {
  "kernelspec": {
   "display_name": "pydatavenv",
   "language": "python",
   "name": "pydatavenv"
  },
  "language_info": {
   "codemirror_mode": {
    "name": "ipython",
    "version": 3
   },
   "file_extension": ".py",
   "mimetype": "text/x-python",
   "name": "python",
   "nbconvert_exporter": "python",
   "pygments_lexer": "ipython3",
   "version": "3.8.8"
  }
 },
 "nbformat": 4,
 "nbformat_minor": 4
}
