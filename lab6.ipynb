{
 "cells": [
  {
   "cell_type": "code",
   "execution_count": 8,
   "metadata": {},
   "outputs": [
    {
     "name": "stdout",
     "output_type": "stream",
     "text": [
      "며칠전 예약 후 오늘 점심뷔페 잘 먹고 왔습니다. 인테리어도 상당히 깔끔하고 북적거리는것 없이 편안히 잘 먹고 왔습니다. 코로나 때문에 손님들 많으면 어쩌지 했는데 많지도 적지도 않게 아주 좋은 분위기였구요. 무엇보다 남자직원 (검은정장에 넥타이 하시고 안경끼신분) 테이블 치울때 꼭 “실례하겠습니다”라는 멘트 그리고 계산할때도 인사말투도 아주 공손해서 이름좀 볼까 했는데 못봤네요. 직원하고 몇마디 나눠보면 친절하고 호텔리어다 느낌드는데 딱 이분이네요. 다음엔 객실도 한번 투숙 해보고 싶네요. 힘든 코로나시기지만 모두 화이팅 하세요^^\n",
      "직원들이 일단 너무 친절합니다. 오픈한지 오래 되었다지만 깔끔하게 유지중인듯합니다.자주 방문하고 가성비 좋은 호텔입니다\n",
      "직원들이 일단 너무 친절합니다. 오픈한지 오래 되었다지만 깔끔하게 유지중인듯합니다.자주 방문하고 가성비 좋은 호텔���니다\n",
      "늦은 시간 체크인 하게 되었는데 날짜를 착각해 워크인으로 들어갔으나 상황 설명을 하니 취소 도와주셔서 감사했습니다.객실은 안락하고 굉장히 좋았습니다.\n"
     ]
    }
   ],
   "source": [
    "from selenium import webdriver\n",
    "import time\n",
    "\n",
    "driver = webdriver.Chrome('C:/Temp/chromedriver')\n",
    "driver.get(\"https://hotel.naver.com/hotels/item?hotelId=hotel:Shilla_Stay_Yeoksam&destination_kor=%EC%8B%A0%EB%9D%BC%EC%8A%A4%ED%85%8C%EC%9D%B4%20%EC%97%AD%EC%82%BC&rooms=2\")\n",
    "time.sleep(3)\n",
    "\n",
    "readlink = driver.find_element_by_css_selector('div.content > div.hotel_used_review.ng-isolate-scope > ul > li.ng-scope.item_ta > a')\n",
    "readlink.click()\n",
    "time.sleep(1)\n",
    "\n",
    "review_list = []\n",
    "time.sleep(3)\n",
    "\n",
    "\n",
    "while True:\n",
    "    more = driver.find_elements_by_css_selector('.txt.ng-binding.ellips')\n",
    "    for i in more:\n",
    "        i.click()\n",
    "        time.sleep(1)\n",
    "    reviewList = driver.find_elements_by_css_selector('div.review_ta.ng-scope > ul > li > div.review_desc > p')\n",
    "    for review in reviewList :    \n",
    "        review_list.append(review.text)\n",
    "    islast = driver.find_elements_by_css_selector('div.review_ta.ng-scope > div.paginate > a.direction.next.disabled')\n",
    "    if not len(islast) == 0:\n",
    "        break\n",
    "    else:\n",
    "        btn = driver.find_element_by_css_selector('div.review_ta.ng-scope > div.paginate > a.direction.next')\n",
    "        btn.click()\n",
    "        time.sleep(2)\n",
    "    \n",
    "\n",
    "for item in review_list :\n",
    "    print(item)    "
   ]
  },
  {
   "cell_type": "code",
   "execution_count": null,
   "metadata": {},
   "outputs": [],
   "source": []
  }
 ],
 "metadata": {
  "kernelspec": {
   "display_name": "pydatavenv",
   "language": "python",
   "name": "pydatavenv"
  },
  "language_info": {
   "codemirror_mode": {
    "name": "ipython",
    "version": 3
   },
   "file_extension": ".py",
   "mimetype": "text/x-python",
   "name": "python",
   "nbconvert_exporter": "python",
   "pygments_lexer": "ipython3",
   "version": "3.8.8"
  }
 },
 "nbformat": 4,
 "nbformat_minor": 4
}
